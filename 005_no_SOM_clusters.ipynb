{
 "cells": [
  {
   "cell_type": "code",
   "execution_count": 8,
   "id": "f6c2a3f2-8fc7-4bab-891f-2688c317b8b1",
   "metadata": {},
   "outputs": [],
   "source": [
    "import pandas as pd\n",
    "from sklearn.cluster import MiniBatchKMeans, AgglomerativeClustering\n",
    "from sklearn import metrics\n",
    "import numpy as np"
   ]
  },
  {
   "cell_type": "code",
   "execution_count": 2,
   "id": "e44743e6-5efd-4204-ac16-8e9f6c86b6b1",
   "metadata": {},
   "outputs": [
    {
     "data": {
      "text/plain": [
       "(181155, 326)"
      ]
     },
     "execution_count": 2,
     "metadata": {},
     "output_type": "execute_result"
    }
   ],
   "source": [
    "data = pd.read_csv('all_data_ts_clean_v2.txt', sep='\\t')#.sample(20000)\n",
    "X = data.to_numpy()\n",
    "X.shape"
   ]
  },
  {
   "cell_type": "code",
   "execution_count": 3,
   "id": "50847896-9161-4259-8347-d7c1b6c28116",
   "metadata": {},
   "outputs": [],
   "source": [
    "distance_matrix = metrics.pairwise.cosine_similarity(X)"
   ]
  },
  {
   "cell_type": "code",
   "execution_count": 4,
   "id": "76ec4356-e462-4156-96e1-9f2e07060ad2",
   "metadata": {},
   "outputs": [],
   "source": [
    "clusterer = AgglomerativeClustering(n_clusters=6, affinity='precomputed', linkage='average')\n",
    "cluster_labels = clusterer.fit_predict(distance_matrix)"
   ]
  },
  {
   "cell_type": "code",
   "execution_count": 9,
   "id": "939fc7ec-de97-48a4-bf8c-5505f677110d",
   "metadata": {},
   "outputs": [],
   "source": [
    "np.savetxt(\"no_som_clusters\", cluster_labels, delimiter=\",\")"
   ]
  },
  {
   "cell_type": "code",
   "execution_count": null,
   "id": "206e8433-2108-4f24-bc91-d31e4d283c4c",
   "metadata": {},
   "outputs": [],
   "source": [
    "clusterer = MiniBatchKMeans(n_clusters=6)\n",
    "cluster_labels = clusterer.fit_predict(MiniBatchKMeans)"
   ]
  },
  {
   "cell_type": "code",
   "execution_count": null,
   "id": "3dd82fde-a2ae-4e4f-aab2-af9db2d1fcba",
   "metadata": {},
   "outputs": [],
   "source": [
    "np.savetxt(\"no_som_clusters_2\", cluster_labels, delimiter=\",\")"
   ]
  },
  {
   "cell_type": "code",
   "execution_count": 22,
   "id": "985bacf8-bbf4-4e5c-a9b8-b9ad988094bc",
   "metadata": {},
   "outputs": [
    {
     "name": "stdout",
     "output_type": "stream",
     "text": [
      "0\n",
      "181150\n",
      "1\n",
      "1\n",
      "2\n",
      "1\n",
      "3\n",
      "1\n",
      "4\n",
      "1\n",
      "5\n",
      "1\n"
     ]
    }
   ],
   "source": [
    "data = pd.read_csv('all_data_ts_clean_v2.txt', sep='\\t')\n",
    "data.reset_index(level=0, inplace=True)\n",
    "for i in set(cluster_labels):\n",
    "    print(i)\n",
    "    data_sub = data[cluster_labels==i]\n",
    "    print(len(data_sub))\n",
    "#data.index.values\n",
    "#data"
   ]
  }
 ],
 "metadata": {
  "kernelspec": {
   "display_name": "Python 3 (ipykernel)",
   "language": "python",
   "name": "python3"
  },
  "language_info": {
   "codemirror_mode": {
    "name": "ipython",
    "version": 3
   },
   "file_extension": ".py",
   "mimetype": "text/x-python",
   "name": "python",
   "nbconvert_exporter": "python",
   "pygments_lexer": "ipython3",
   "version": "3.9.6"
  }
 },
 "nbformat": 4,
 "nbformat_minor": 5
}
