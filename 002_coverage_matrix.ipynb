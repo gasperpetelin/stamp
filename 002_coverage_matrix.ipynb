{
 "cells": [
  {
   "cell_type": "code",
   "execution_count": 1,
   "id": "10cf7248-d3f5-43cf-b2a4-9ca47070cb42",
   "metadata": {},
   "outputs": [
    {
     "name": "stderr",
     "output_type": "stream",
     "text": [
      "Updating HTML index of packages in '.Library'\n",
      "\n",
      "Making 'packages.html' ...\n",
      " done\n",
      "\n",
      "Updating HTML index of packages in '.Library'\n",
      "\n",
      "Making 'packages.html' ...\n",
      " done\n",
      "\n",
      "Loading required package: iterators\n",
      "\n",
      "Loading required package: parallel\n",
      "\n",
      "Registered S3 method overwritten by 'quantmod':\n",
      "  method            from\n",
      "  as.zoo.data.frame zoo \n",
      "\n"
     ]
    }
   ],
   "source": [
    "install.packages(\"foreach\", repos='http://cran.us.r-project.org')\n",
    "install.packages(\"doParallel\", repos='http://cran.us.r-project.org')\n",
    "\n",
    "library(foreach)\n",
    "library(doParallel)\n",
    "library(tseries)"
   ]
  },
  {
   "cell_type": "code",
   "execution_count": 2,
   "id": "0bb2ae70-7407-43f2-acee-a82657cf2364",
   "metadata": {},
   "outputs": [],
   "source": [
    "#plese specify the path where the ts_fres_lvl1-full is located\n",
    "files<-list.files(\"ts_fresh_lvl1_full/Univariate2018_ts/Univariate_ts\",full.names=TRUE,recursive=TRUE)\n",
    "\n",
    "data<-list()\n",
    "for (i in 1:length(files)){\n",
    "    data[[i]]<-read.ts(files[i],header=TRUE,sep=\",\")\n",
    "}\n",
    "\n",
    "names<-c()\n",
    "for(i in 1:length(files)){\n",
    "    names[i]<-strsplit(strsplit(files[i],\"Univariate_ts/\")[[1]][2],\"/\")[[1]][1]\n",
    "}\n",
    "\n",
    "count<-c()\n",
    "for(i in 1:length(data)){\n",
    "    count[i]<-nrow(data[[i]])\n",
    "}\n",
    "\n",
    "df_counts<-cbind(names,count)\n",
    "\n",
    "cell_inst<-read.table(\"cell_instance.txt\",sep=\"\\t\")"
   ]
  },
  {
   "cell_type": "code",
   "execution_count": 3,
   "id": "883275a6-81b1-4949-a5f4-bfd3b59ce9c3",
   "metadata": {},
   "outputs": [],
   "source": [
    "#cell_inst\n",
    "#clusters<-read.csv(\"clusters/48x48_AgglomerativeClustering_cos_clusters_6.csv\",sep=\"\\t\",header=FALSE)\n",
    "#clusters"
   ]
  },
  {
   "cell_type": "code",
   "execution_count": 4,
   "id": "528264a9-d5e3-46e9-91bb-751c716c3c73",
   "metadata": {},
   "outputs": [],
   "source": [
    "coverage_matrix <- function(file) {\n",
    "    clusters<-read.csv(file,sep=\"\\t\",header=FALSE)\n",
    "    clusters<-cbind(clusters,seq(1,35*35,1))\n",
    "    colnames(clusters)<-c(\"groupes\",\"cell\")\n",
    "    \n",
    "    clust<-c()\n",
    "    for( i in 1:nrow(cell_inst)){\n",
    "        clust[i]<-clusters$groupes[which(clusters$cell==cell_inst$t[i])]\n",
    "\n",
    "    }\n",
    "\n",
    "\n",
    "    df1<-cbind(cell_inst,clust)\n",
    "    colnames(df1)<-c(\"name\",\"cell\",\"clust\")\n",
    "    \n",
    "    l<-list()\n",
    "    counter<-1\n",
    "    for(i in sort(unique(clust))){\n",
    "        index<-which(df1$clust==i)\n",
    "        temp<-df1[index,]\n",
    "\n",
    "\n",
    "        y<-c()\n",
    "        for(j in 1:nrow(temp)){\n",
    "            y[j]<-strsplit(temp$name[j],\"_\")[[1]][1]\n",
    "        }\n",
    "        l[[counter]]<-unique(y)\n",
    "        counter<-counter+1\n",
    "        \n",
    "        coverage<-matrix(0,length(unique(clust)),113)\n",
    "        counter<-1\n",
    "        for(i in sort(unique(clust))){\n",
    "            index<-which(df1$clust==i)\n",
    "            temp<-df1[index,]\n",
    "            y<-c()\n",
    "            for(j in 1:nrow(temp)){\n",
    "                y[j]<-strsplit(temp$name[j],\"_\")[[1]][1]\n",
    "            }\n",
    "\n",
    "            for(k in 1:nrow(df_counts)){\n",
    "                coverage[counter,k]<-length(which(y==df_counts[k,1]))/as.numeric(as.character(df_counts[k,2]))*100\n",
    "            }\n",
    "            counter<-counter+1\n",
    "        }\n",
    "    }\n",
    "    \n",
    "    m<-basename(file)\n",
    "    rownames(coverage)<-paste(\"Cluster\", seq(1,length(unique(clust)),1))\n",
    "    colnames(coverage)<-names\n",
    "\n",
    "    dir<-\"coverage_matrix/\"\n",
    "    path<-paste(dir, m)\n",
    "    dir.create(dir)\n",
    "    write.table(coverage,path,sep=\"\\t\")\n",
    "}"
   ]
  },
  {
   "cell_type": "code",
   "execution_count": 5,
   "id": "339984f7-9109-4a93-9e2a-32da1c4a006d",
   "metadata": {},
   "outputs": [],
   "source": [
    "#coverage_matrix(\"clusters/48x48_AgglomerativeClustering_cos_clusters_6.csv\")"
   ]
  },
  {
   "cell_type": "code",
   "execution_count": 6,
   "id": "f8c06c7c-42fc-4aef-b692-d224ebf6786d",
   "metadata": {},
   "outputs": [],
   "source": [
    "#coverage_matrix(\"clusters/48x48_AgglomerativeClustering_cos_clusters_10.csv\")\n",
    "#cluster_files<-list.files(\"clusters/\",full.names=TRUE,recursive=TRUE)\n",
    "#\n",
    "#for (i in 1:length(cluster_files)){\n",
    "#    print(cluster_files[i])\n",
    "#    coverage_matrix(cluster_files[i])\n",
    "#}"
   ]
  },
  {
   "cell_type": "code",
   "execution_count": 7,
   "id": "b355cc17-1a47-48c9-9146-c7c4e91d5e57",
   "metadata": {},
   "outputs": [],
   "source": [
    "#read the clustering file (these are the files you are generating)\n",
    "#clusters<-read.csv(\"clusters/35x35_AgglomerativeClustering_cos_clusters_6.csv\",sep=\"\\t\",header=FALSE)\n",
    "#clusters<-cbind(clusters,seq(1,2304,1))\n",
    "#colnames(clusters)<-c(\"groupes\",\"cell\")\n",
    "\n",
    "#clust<-c()\n",
    "#for( i in 1:nrow(cell_inst)){\n",
    "#    clust[i]<-clusters$groupes[which(clusters$cell==cell_inst$t[i])]\n",
    "\n",
    "#}\n",
    "\n",
    "\n",
    "#df1<-cbind(cell_inst,clust)\n",
    "#colnames(df1)<-c(\"name\",\"cell\",\"clust\")"
   ]
  },
  {
   "cell_type": "code",
   "execution_count": 8,
   "id": "73c8a2c7-eb1d-4369-bc6d-419f2592783d",
   "metadata": {},
   "outputs": [],
   "source": [
    "#l<-list()\n",
    "#counter<-1\n",
    "#for(i in sort(unique(clust))){\n",
    "#    index<-which(df1$clust==i)\n",
    "#    temp<-df1[index,]\n",
    "#\n",
    "#\n",
    "#    y<-c()\n",
    "#    for(j in 1:nrow(temp)){\n",
    "#        y[j]<-strsplit(temp$name[j],\"_\")[[1]][1]\n",
    "#    }\n",
    "#    l[[counter]]<-unique(y)\n",
    "#    counter<-counter+1\n",
    "#}"
   ]
  },
  {
   "cell_type": "code",
   "execution_count": 9,
   "id": "659c8b86-43bb-44b2-a7ce-2aad5030c090",
   "metadata": {},
   "outputs": [],
   "source": [
    "#coverage<-matrix(0,length(unique(clust)),113)\n",
    "#counter<-1\n",
    "#for(i in sort(unique(clust))){\n",
    "#    index<-which(df1$clust==i)\n",
    "#    temp<-df1[index,]\n",
    "#    y<-c()\n",
    "#    for(j in 1:nrow(temp)){\n",
    "#        y[j]<-strsplit(temp$name[j],\"_\")[[1]][1]\n",
    "#    }\n",
    "#\n",
    "#    for(k in 1:nrow(df_counts)){\n",
    "#        coverage[counter,k]<-length(which(y==df_counts[k,1]))/as.numeric(as.character(df_counts[k,2]))*100\n",
    "#    }\n",
    "#    counter<-counter+1\n",
    "#}"
   ]
  },
  {
   "cell_type": "code",
   "execution_count": null,
   "id": "a26c3c42-3c50-4e81-aebc-b12216fc8012",
   "metadata": {},
   "outputs": [],
   "source": []
  },
  {
   "cell_type": "code",
   "execution_count": 10,
   "id": "54967f3a-e40e-4dfb-ba97-06383975fd03",
   "metadata": {},
   "outputs": [],
   "source": [
    "#m<-\"coverage_matrix\"\n",
    "#rownames(coverage)<-paste(\"Cluster\", seq(1,length(unique(clust)),1))\n",
    "#colnames(coverage)<-names"
   ]
  },
  {
   "cell_type": "code",
   "execution_count": null,
   "id": "6a6a163b-64cc-4307-a43a-43c0a49c48dc",
   "metadata": {},
   "outputs": [],
   "source": []
  },
  {
   "cell_type": "code",
   "execution_count": 11,
   "id": "6a2848f8-e766-4cf7-861d-b74fdac9b4db",
   "metadata": {},
   "outputs": [],
   "source": [
    "#dir<-\"clusters/results/\"\n",
    "#path<-paste(dir, m,\".txt\")\n",
    "#dir.create(dir)\n",
    "#write.table(coverage,path,sep=\"\\t\")"
   ]
  },
  {
   "cell_type": "code",
   "execution_count": 12,
   "id": "55af2c93-4bd5-4fa9-bfbc-111907642081",
   "metadata": {},
   "outputs": [
    {
     "ename": "ERROR",
     "evalue": "Error in {: task 1 failed - \"replacement has length zero\"\n",
     "output_type": "error",
     "traceback": [
      "Error in {: task 1 failed - \"replacement has length zero\"\nTraceback:\n",
      "1. foreach(i = 1:length(cluster_files), .combine = cbind) %dopar% \n .     {\n .         coverage_matrix(cluster_files[i])\n .     }",
      "2. e$fun(obj, substitute(ex), parent.frame(), e$data)"
     ]
    }
   ],
   "source": [
    "cluster_files<-list.files(\"clusters/\",full.names=TRUE,recursive=TRUE)\n",
    "\n",
    "#setup parallel backend to use many processors\n",
    "cores=detectCores()\n",
    "cl <- makeCluster(cores[1]-1) #not to overload your computer\n",
    "registerDoParallel(cl)\n",
    "\n",
    "finalMatrix <- foreach(i=1:length(cluster_files), .combine=cbind) %dopar% {\n",
    "   coverage_matrix(cluster_files[i])\n",
    "}\n",
    "#stop cluster\n",
    "stopCluster(cl)"
   ]
  },
  {
   "cell_type": "code",
   "execution_count": null,
   "id": "497a037c-5998-44ab-89d7-55835838d5c9",
   "metadata": {},
   "outputs": [],
   "source": []
  },
  {
   "cell_type": "code",
   "execution_count": null,
   "id": "f2afdf72-6474-4d2b-be0a-ea7bf442c2dd",
   "metadata": {},
   "outputs": [],
   "source": []
  },
  {
   "cell_type": "code",
   "execution_count": null,
   "id": "af91778f-dda6-457e-8ca9-7ba9fc972bb4",
   "metadata": {},
   "outputs": [],
   "source": []
  },
  {
   "cell_type": "code",
   "execution_count": null,
   "id": "15e2a77a-31a0-46de-ab0b-fe5eba142de9",
   "metadata": {},
   "outputs": [],
   "source": []
  }
 ],
 "metadata": {
  "kernelspec": {
   "display_name": "R",
   "language": "R",
   "name": "ir"
  },
  "language_info": {
   "codemirror_mode": "r",
   "file_extension": ".r",
   "mimetype": "text/x-r-source",
   "name": "R",
   "pygments_lexer": "r",
   "version": "4.1.0"
  }
 },
 "nbformat": 4,
 "nbformat_minor": 5
}
