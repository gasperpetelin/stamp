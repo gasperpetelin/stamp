{
 "cells": [
  {
   "cell_type": "code",
   "execution_count": 1,
   "source": [
    "install.packages(\"foreach\", repos='http://cran.us.r-project.org')\n",
    "install.packages(\"doParallel\", repos='http://cran.us.r-project.org')\n",
    "\n",
    "library(foreach)\n",
    "library(doParallel)\n",
    "library(tseries)"
   ],
   "outputs": [
    {
     "output_type": "stream",
     "name": "stderr",
     "text": [
      "Updating HTML index of packages in '.Library'\n",
      "\n",
      "Making 'packages.html' ...\n",
      " done\n",
      "\n",
      "Updating HTML index of packages in '.Library'\n",
      "\n",
      "Making 'packages.html' ...\n",
      " done\n",
      "\n",
      "Loading required package: iterators\n",
      "\n",
      "Loading required package: parallel\n",
      "\n",
      "Registered S3 method overwritten by 'quantmod':\n",
      "  method            from\n",
      "  as.zoo.data.frame zoo \n",
      "\n"
     ]
    }
   ],
   "metadata": {}
  },
  {
   "cell_type": "code",
   "execution_count": 2,
   "source": [
    "#plese specify the path where the ts_fres_lvl1-full is located\n",
    "files<-list.files(\"ts_fresh_lvl1_full/Univariate2018_ts/Univariate_ts\",full.names=TRUE,recursive=TRUE)\n",
    "\n",
    "data<-list()\n",
    "for (i in 1:length(files)){\n",
    "    data[[i]]<-read.ts(files[i],header=TRUE,sep=\",\")\n",
    "}\n",
    "\n",
    "names<-c()\n",
    "for(i in 1:length(files)){\n",
    "    names[i]<-strsplit(strsplit(files[i],\"Univariate_ts/\")[[1]][2],\"/\")[[1]][1]\n",
    "}\n",
    "\n",
    "count<-c()\n",
    "for(i in 1:length(data)){\n",
    "    count[i]<-nrow(data[[i]])\n",
    "}\n",
    "\n",
    "df_counts<-cbind(names,count)\n",
    "\n",
    "cell_inst<-read.table(\"cell_instance.txt\",sep=\"\\t\")"
   ],
   "outputs": [],
   "metadata": {}
  },
  {
   "cell_type": "code",
   "execution_count": 4,
   "source": [
    "coverage_matrix <- function(file) {\n",
    "    clusters<-read.csv(file,sep=\"\\t\",header=FALSE)\n",
    "    clusters<-cbind(clusters,seq(1,35*35,1))\n",
    "    colnames(clusters)<-c(\"groupes\",\"cell\")\n",
    "    \n",
    "    clust<-c()\n",
    "    for( i in 1:nrow(cell_inst)){\n",
    "        clust[i]<-clusters$groupes[which(clusters$cell==cell_inst$t[i])]\n",
    "\n",
    "    }\n",
    "\n",
    "\n",
    "    df1<-cbind(cell_inst,clust)\n",
    "    colnames(df1)<-c(\"name\",\"cell\",\"clust\")\n",
    "    \n",
    "    l<-list()\n",
    "    counter<-1\n",
    "    for(i in sort(unique(clust))){\n",
    "        index<-which(df1$clust==i)\n",
    "        temp<-df1[index,]\n",
    "\n",
    "\n",
    "        y<-c()\n",
    "        for(j in 1:nrow(temp)){\n",
    "            y[j]<-strsplit(temp$name[j],\"_\")[[1]][1]\n",
    "        }\n",
    "        l[[counter]]<-unique(y)\n",
    "        counter<-counter+1\n",
    "        \n",
    "        coverage<-matrix(0,length(unique(clust)),113)\n",
    "        counter<-1\n",
    "        for(i in sort(unique(clust))){\n",
    "            index<-which(df1$clust==i)\n",
    "            temp<-df1[index,]\n",
    "            y<-c()\n",
    "            for(j in 1:nrow(temp)){\n",
    "                y[j]<-strsplit(temp$name[j],\"_\")[[1]][1]\n",
    "            }\n",
    "\n",
    "            for(k in 1:nrow(df_counts)){\n",
    "                coverage[counter,k]<-length(which(y==df_counts[k,1]))/as.numeric(as.character(df_counts[k,2]))*100\n",
    "            }\n",
    "            counter<-counter+1\n",
    "        }\n",
    "    }\n",
    "    \n",
    "    m<-basename(file)\n",
    "    rownames(coverage)<-paste(\"Cluster\", seq(1,length(unique(clust)),1))\n",
    "    colnames(coverage)<-names\n",
    "\n",
    "    dir<-\"coverage_matrix/\"\n",
    "    path<-paste(dir, m)\n",
    "    dir.create(dir)\n",
    "    write.table(coverage,path,sep=\"\\t\")\n",
    "}"
   ],
   "outputs": [],
   "metadata": {}
  },
  {
   "cell_type": "code",
   "execution_count": 12,
   "source": [
    "cluster_files<-list.files(\"clusters/\",full.names=TRUE,recursive=TRUE)\n",
    "\n",
    "#setup parallel backend to use many processors\n",
    "cores=detectCores()\n",
    "cl <- makeCluster(cores[1]-1) #not to overload your computer\n",
    "registerDoParallel(cl)\n",
    "\n",
    "finalMatrix <- foreach(i=1:length(cluster_files), .combine=cbind) %dopar% {\n",
    "   coverage_matrix(cluster_files[i])\n",
    "}\n",
    "#stop cluster\n",
    "stopCluster(cl)"
   ],
   "outputs": [
    {
     "output_type": "error",
     "ename": "ERROR",
     "evalue": "Error in {: task 1 failed - \"replacement has length zero\"\n",
     "traceback": [
      "Error in {: task 1 failed - \"replacement has length zero\"\nTraceback:\n",
      "1. foreach(i = 1:length(cluster_files), .combine = cbind) %dopar% \n .     {\n .         coverage_matrix(cluster_files[i])\n .     }",
      "2. e$fun(obj, substitute(ex), parent.frame(), e$data)"
     ]
    }
   ],
   "metadata": {}
  }
 ],
 "metadata": {
  "kernelspec": {
   "display_name": "R",
   "language": "R",
   "name": "ir"
  },
  "language_info": {
   "codemirror_mode": "r",
   "file_extension": ".r",
   "mimetype": "text/x-r-source",
   "name": "R",
   "pygments_lexer": "r",
   "version": "4.1.0"
  }
 },
 "nbformat": 4,
 "nbformat_minor": 5
}