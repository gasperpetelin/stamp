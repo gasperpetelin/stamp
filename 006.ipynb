{
 "cells": [
  {
   "cell_type": "code",
   "execution_count": 6,
   "id": "dada8c5d-63d0-4e4b-a84c-4f31c65aff3f",
   "metadata": {},
   "outputs": [],
   "source": [
    "import pandas as pd\n",
    "import numpy as np\n",
    "from sklearn import metrics"
   ]
  },
  {
   "cell_type": "code",
   "execution_count": 16,
   "id": "4a66a352-55cb-482b-9bc9-fa871ff3d494",
   "metadata": {},
   "outputs": [
    {
     "data": {
      "text/plain": [
       "0.8907686966908774"
      ]
     },
     "execution_count": 16,
     "metadata": {},
     "output_type": "execute_result"
    }
   ],
   "source": [
    "data_link = {\n",
    "    '35x35': 'SOM_clusters/codes_35_35.txt',\n",
    "    '48x48': 'SOM_clusters/codes_48_48.txt'\n",
    "}\n",
    "\n",
    "df = pd.read_csv(data_link['48x48'], sep=\"\\t\").to_numpy()\n",
    "df\n",
    "\n",
    "d = metrics.pairwise.euclidean_distances(df)\n",
    "d.shape\n",
    "for i in range(2304):\n",
    "    d[i, i] = 99999999\n",
    "d.min()\n",
    "\n",
    "#import matplotlib.pyplot as plt\n",
    "\n",
    "#n, bins, patches = plt.hist(d.flatten(), 500)"
   ]
  },
  {
   "cell_type": "code",
   "execution_count": 18,
   "id": "f40e4c22-d51f-4912-be34-bced9b503440",
   "metadata": {},
   "outputs": [
    {
     "name": "stdout",
     "output_type": "stream",
     "text": [
      "Name: scikit-learn\n",
      "Version: 0.24.2\n",
      "Summary: A set of python modules for machine learning and data mining\n",
      "Home-page: http://scikit-learn.org\n",
      "Author: \n",
      "Author-email: \n",
      "License: new BSD\n",
      "Location: /opt/conda/lib/python3.9/site-packages\n",
      "Requires: scipy, threadpoolctl, numpy, joblib\n",
      "Required-by: yellowbrick\n"
     ]
    }
   ],
   "source": [
    "!pip show scikit-learn"
   ]
  }
 ],
 "metadata": {
  "kernelspec": {
   "display_name": "Python 3 (ipykernel)",
   "language": "python",
   "name": "python3"
  },
  "language_info": {
   "codemirror_mode": {
    "name": "ipython",
    "version": 3
   },
   "file_extension": ".py",
   "mimetype": "text/x-python",
   "name": "python",
   "nbconvert_exporter": "python",
   "pygments_lexer": "ipython3",
   "version": "3.9.6"
  }
 },
 "nbformat": 4,
 "nbformat_minor": 5
}
