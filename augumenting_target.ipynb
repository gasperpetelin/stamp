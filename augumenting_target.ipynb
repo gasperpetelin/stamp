{
 "cells": [
  {
   "cell_type": "code",
   "execution_count": 127,
   "source": [
    "import pandas as pd\n",
    "import numpy as np\n",
    "import matplotlib.pyplot as plt\n",
    "import os"
   ],
   "outputs": [],
   "metadata": {}
  },
  {
   "cell_type": "code",
   "execution_count": 128,
   "source": [
    "training_data_descriptive_space = pd.read_csv(\"./instance_training_datasets/1000_samples_training_instances_1.csv\")\n",
    "test_data_descriptive_space = pd.read_csv(\"./instance_training_datasets/1000_samples_test_instances_1.csv\")"
   ],
   "outputs": [],
   "metadata": {
    "scrolled": true
   }
  },
  {
   "cell_type": "code",
   "execution_count": 129,
   "source": [
    "training_data_descriptive_space = training_data_descriptive_space.drop([\"Unnamed: 0\"], axis=1)\n",
    "test_data_descriptive_space = test_data_descriptive_space.drop([\"Unnamed: 0\"], axis=1)"
   ],
   "outputs": [],
   "metadata": {}
  },
  {
   "cell_type": "code",
   "execution_count": 130,
   "source": [
    "training_data_descriptive_space = training_data_descriptive_space[training_data_descriptive_space.dataset_python!='StarLightCurves']\n",
    "test_data_descriptive_space = test_data_descriptive_space[test_data_descriptive_space.dataset_python!='StarLightCurves']"
   ],
   "outputs": [],
   "metadata": {}
  },
  {
   "cell_type": "code",
   "execution_count": 131,
   "source": [
    "target_path = \"./results/\"\n",
    "target_files = os.listdir(target_path)"
   ],
   "outputs": [],
   "metadata": {}
  },
  {
   "cell_type": "code",
   "execution_count": 132,
   "source": [
    "all_datasets_targets = {}\n",
    "for tgt in target_files:\n",
    "    all_datasets_targets[tgt[:-4]] = pd.read_csv(target_path+tgt)"
   ],
   "outputs": [],
   "metadata": {}
  },
  {
   "cell_type": "code",
   "execution_count": 133,
   "source": [
    "def create_target(dataset, indeks):\n",
    "    if dataset.loc[indeks].true_value == dataset.loc[indeks].prediction:\n",
    "        return 0\n",
    "    else:\n",
    "        return 1\n",
    "    \n",
    "training_target = []\n",
    "for idx in range(training_data_descriptive_space.shape[0]):\n",
    "    tgt = create_target(all_datasets_targets[training_data_descriptive_space.dataset_python.iloc[idx]], \n",
    "                       training_data_descriptive_space.indeks_dataset_python.iloc[idx])\n",
    "    training_target.append(tgt)\n",
    "    \n",
    "    "
   ],
   "outputs": [],
   "metadata": {}
  },
  {
   "cell_type": "code",
   "execution_count": 134,
   "source": [
    "test_target = []\n",
    "for idx in range(test_data_descriptive_space.shape[0]):\n",
    "    tgt = create_target(all_datasets_targets[test_data_descriptive_space.dataset_python.iloc[idx]], \n",
    "                       test_data_descriptive_space.indeks_dataset_python.iloc[idx])\n",
    "    test_target.append(tgt)"
   ],
   "outputs": [],
   "metadata": {}
  },
  {
   "cell_type": "code",
   "execution_count": 135,
   "source": [
    "len(test_target) == test_data_descriptive_space.shape[0]"
   ],
   "outputs": [
    {
     "output_type": "execute_result",
     "data": {
      "text/plain": [
       "True"
      ]
     },
     "metadata": {},
     "execution_count": 135
    }
   ],
   "metadata": {}
  },
  {
   "cell_type": "code",
   "execution_count": 136,
   "source": [
    "test_data_descriptive_space[\"target_task\"] = test_target\n",
    "training_data_descriptive_space[\"target_task\"] = training_target"
   ],
   "outputs": [],
   "metadata": {}
  },
  {
   "cell_type": "code",
   "execution_count": 137,
   "source": [
    "training_data_descriptive_space.to_csv(\"./instance_training_datasets/1000_samples_desriptive_plus_target_training_1.csv\", index=False)"
   ],
   "outputs": [],
   "metadata": {}
  },
  {
   "cell_type": "code",
   "execution_count": 138,
   "source": [
    "test_data_descriptive_space.to_csv(\"./instance_training_datasets/1000_samples_desriptive_plus_target_test_1.csv\", index=False)"
   ],
   "outputs": [],
   "metadata": {}
  }
 ],
 "metadata": {
  "kernelspec": {
   "display_name": "Python 3",
   "language": "python",
   "name": "python3"
  },
  "language_info": {
   "codemirror_mode": {
    "name": "ipython",
    "version": 3
   },
   "file_extension": ".py",
   "mimetype": "text/x-python",
   "name": "python",
   "nbconvert_exporter": "python",
   "pygments_lexer": "ipython3",
   "version": "3.6.7"
  }
 },
 "nbformat": 4,
 "nbformat_minor": 2
}