{
 "cells": [
  {
   "cell_type": "code",
   "execution_count": 127,
   "metadata": {},
   "outputs": [],
   "source": [
    "import pandas as pd\n",
    "import numpy as np\n",
    "import matplotlib.pyplot as plt\n",
    "import os\n",
    "import tsfresh \n",
    "\n",
    "from sklearn.ensemble import RandomForestClassifier\n",
    "from sklearn.model_selection import StratifiedKFold"
   ]
  },
  {
   "cell_type": "code",
   "execution_count": 128,
   "metadata": {
    "scrolled": true
   },
   "outputs": [],
   "source": [
    "training_data_descriptive_space = pd.read_csv(\"./instance_training_datasets/1000_samples_training_instances_1.csv\")\n",
    "test_data_descriptive_space = pd.read_csv(\"./instance_training_datasets/1000_samples_test_instances_1.csv\")"
   ]
  },
  {
   "cell_type": "code",
   "execution_count": 129,
   "metadata": {},
   "outputs": [],
   "source": [
    "training_data_descriptive_space = training_data_descriptive_space.drop([\"Unnamed: 0\"], axis=1)\n",
    "test_data_descriptive_space = test_data_descriptive_space.drop([\"Unnamed: 0\"], axis=1)"
   ]
  },
  {
   "cell_type": "code",
   "execution_count": 130,
   "metadata": {},
   "outputs": [],
   "source": [
    "training_data_descriptive_space = training_data_descriptive_space[training_data_descriptive_space.dataset_python!='StarLightCurves']\n",
    "test_data_descriptive_space = test_data_descriptive_space[test_data_descriptive_space.dataset_python!='StarLightCurves']"
   ]
  },
  {
   "cell_type": "code",
   "execution_count": null,
   "metadata": {},
   "outputs": [],
   "source": []
  },
  {
   "cell_type": "code",
   "execution_count": 131,
   "metadata": {},
   "outputs": [],
   "source": [
    "target_path = \"./results/\"\n",
    "target_files = os.listdir(target_path)"
   ]
  },
  {
   "cell_type": "code",
   "execution_count": 132,
   "metadata": {},
   "outputs": [],
   "source": [
    "all_datasets_targets = {}\n",
    "for tgt in target_files:\n",
    "    all_datasets_targets[tgt[:-4]] = pd.read_csv(target_path+tgt)"
   ]
  },
  {
   "cell_type": "code",
   "execution_count": 133,
   "metadata": {},
   "outputs": [],
   "source": [
    "def create_target(dataset, indeks):\n",
    "    if dataset.loc[indeks].true_value == dataset.loc[indeks].prediction:\n",
    "        return 0\n",
    "    else:\n",
    "        return 1\n",
    "    \n",
    "training_target = []\n",
    "for idx in range(training_data_descriptive_space.shape[0]):\n",
    "    tgt = create_target(all_datasets_targets[training_data_descriptive_space.dataset_python.iloc[idx]], \n",
    "                       training_data_descriptive_space.indeks_dataset_python.iloc[idx])\n",
    "    training_target.append(tgt)\n",
    "    \n",
    "    "
   ]
  },
  {
   "cell_type": "code",
   "execution_count": 134,
   "metadata": {},
   "outputs": [],
   "source": [
    "test_target = []\n",
    "for idx in range(test_data_descriptive_space.shape[0]):\n",
    "    tgt = create_target(all_datasets_targets[test_data_descriptive_space.dataset_python.iloc[idx]], \n",
    "                       test_data_descriptive_space.indeks_dataset_python.iloc[idx])\n",
    "    test_target.append(tgt)"
   ]
  },
  {
   "cell_type": "code",
   "execution_count": 135,
   "metadata": {},
   "outputs": [
    {
     "data": {
      "text/plain": [
       "True"
      ]
     },
     "execution_count": 135,
     "metadata": {},
     "output_type": "execute_result"
    }
   ],
   "source": [
    "len(test_target) == test_data_descriptive_space.shape[0]"
   ]
  },
  {
   "cell_type": "code",
   "execution_count": 136,
   "metadata": {},
   "outputs": [],
   "source": [
    "test_data_descriptive_space[\"target_task\"] = test_target\n",
    "training_data_descriptive_space[\"target_task\"] = training_target"
   ]
  },
  {
   "cell_type": "code",
   "execution_count": 137,
   "metadata": {},
   "outputs": [],
   "source": [
    "training_data_descriptive_space.to_csv(\"./instance_training_datasets/1000_samples_desriptive_plus_target_training_1.csv\", index=False)"
   ]
  },
  {
   "cell_type": "code",
   "execution_count": 138,
   "metadata": {},
   "outputs": [],
   "source": [
    "test_data_descriptive_space.to_csv(\"./instance_training_datasets/1000_samples_desriptive_plus_target_test_1.csv\", index=False)"
   ]
  },
  {
   "cell_type": "code",
   "execution_count": null,
   "metadata": {},
   "outputs": [],
   "source": []
  }
 ],
 "metadata": {
  "kernelspec": {
   "display_name": "Python 3",
   "language": "python",
   "name": "python3"
  },
  "language_info": {
   "codemirror_mode": {
    "name": "ipython",
    "version": 3
   },
   "file_extension": ".py",
   "mimetype": "text/x-python",
   "name": "python",
   "nbconvert_exporter": "python",
   "pygments_lexer": "ipython3",
   "version": "3.6.7"
  }
 },
 "nbformat": 4,
 "nbformat_minor": 2
}
